{
 "cells": [
  {
   "cell_type": "code",
   "execution_count": 1,
   "id": "3bdf3dfe",
   "metadata": {},
   "outputs": [],
   "source": [
    "import cv2 as cv"
   ]
  },
  {
   "cell_type": "code",
   "execution_count": 2,
   "id": "8b29d6b6",
   "metadata": {},
   "outputs": [],
   "source": [
    "image = cv.imread(\"img/figuras1.png\")\n",
    "image_blur = cv.medianBlur(image, 5)\n",
    "gray = cv.cvtColor(image_blur, cv.COLOR_BGR2GRAY)\n",
    "canny = cv.Canny(gray, 10, 150)\n",
    "#_, thresh = cv.threshold(gray, 120, 255, cv.THRESH_BINARY_INV)\n",
    "canny = cv.dilate(canny, None, iterations=1)\n",
    "canny = cv.erode(canny, None, iterations=1)\n",
    "contornos,_ = cv.findContours(canny, cv.RETR_EXTERNAL, cv.CHAIN_APPROX_SIMPLE)\n",
    "\n",
    "#cv.imshow('imagem canny',canny)\n",
    "#cv.imshow('imagem', thresh)\n",
    "#cv.waitKey(0)"
   ]
  },
  {
   "cell_type": "code",
   "execution_count": 3,
   "id": "3dc14b41",
   "metadata": {},
   "outputs": [
    {
     "name": "stdout",
     "output_type": "stream",
     "text": [
      "aspect_ratio=  1.262857142857143\n",
      "aspect_ratio=  0.8169014084507042\n",
      "aspect_ratio=  1.7758620689655173\n",
      "aspect_ratio=  1.0\n",
      "aspect_ratio=  1.162450066577896\n"
     ]
    }
   ],
   "source": [
    "for c in contornos:\n",
    "    epsilon = 0.01*cv.arcLength(c,True)\n",
    "    approx = cv.approxPolyDP(c,epsilon,True)\n",
    "    x,y,w,h = cv.boundingRect(approx)\n",
    "\n",
    "    if len(approx)==3: \n",
    "        cv.putText(image, 'Triangulo', (x,y-5),1,1,(255,0,0),1)\n",
    "\n",
    "    if len(approx)==4:\n",
    "        aspect_ratio = float(w)/h\n",
    "        print('aspect_ratio= ', aspect_ratio)\n",
    "        if aspect_ratio == 1:\n",
    "            cv.putText(image, 'Quadrado', (x,y-5),1,1,(255,0,0),1)\n",
    "        else:\n",
    "            cv.putText(image, 'Retangulo', (x,y-5),1,1,(255,0,0),1)\n",
    "\n",
    "    if len(approx)==5:\n",
    "        cv.putText(image, 'Pentagono', (x,y-5),1,1,(255,0,0),1)\n",
    "\n",
    "    if len(approx)==6:\n",
    "        cv.putText(image, 'Hexagono', (x,y-5),1,1,(255,0,0),1)\n",
    "\n",
    "    if len(approx)>10: \n",
    "        cv.putText(image, 'Circulo', (x,y-5),1,1,(255,0,0),1)\n",
    "\n",
    "    cv.drawContours(image, [approx], 0, (255,0,0),2)\n",
    "    cv.imshow('imagem canny',canny)\n",
    "    cv.imshow('imagem', image)\n",
    "    cv.waitKey(0)"
   ]
  },
  {
   "cell_type": "code",
   "execution_count": null,
   "id": "fa7e15fe",
   "metadata": {},
   "outputs": [],
   "source": []
  },
  {
   "cell_type": "code",
   "execution_count": null,
   "id": "d6971a4b",
   "metadata": {},
   "outputs": [],
   "source": []
  }
 ],
 "metadata": {
  "kernelspec": {
   "display_name": "Python 3 (ipykernel)",
   "language": "python",
   "name": "python3"
  },
  "language_info": {
   "codemirror_mode": {
    "name": "ipython",
    "version": 3
   },
   "file_extension": ".py",
   "mimetype": "text/x-python",
   "name": "python",
   "nbconvert_exporter": "python",
   "pygments_lexer": "ipython3",
   "version": "3.9.12"
  }
 },
 "nbformat": 4,
 "nbformat_minor": 5
}
